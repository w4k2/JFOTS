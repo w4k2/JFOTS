{
 "cells": [
  {
   "cell_type": "code",
   "execution_count": 1,
   "id": "7afa53b1-52eb-4db1-8f54-d5c3bae34d97",
   "metadata": {},
   "outputs": [],
   "source": [
    "from collections import Counter\n",
    "\n",
    "import numpy as np\n",
    "from imblearn.over_sampling import SMOTE\n",
    "from pymoo.algorithms.moo.nsga2 import NSGA2\n",
    "from pymoo.factory import get_crossover, get_mutation, get_sampling\n",
    "from sklearn.tree import DecisionTreeClassifier\n",
    "\n",
    "from datasets import load\n",
    "from jfots import JFOTS"
   ]
  },
  {
   "cell_type": "code",
   "execution_count": 2,
   "id": "aaaa4230-a263-46ac-866f-3397debbc2e1",
   "metadata": {},
   "outputs": [
    {
     "data": {
      "text/plain": [
       "Counter({0.0: 250, 1.0: 134})"
      ]
     },
     "execution_count": 2,
     "metadata": {},
     "output_type": "execute_result"
    }
   ],
   "source": [
    "X, y = load(\"pima\")[0][0]\n",
    "Counter(y)"
   ]
  },
  {
   "cell_type": "code",
   "execution_count": 3,
   "id": "6926dfdf-ccd2-479b-8693-d5720a3209bc",
   "metadata": {},
   "outputs": [
    {
     "data": {
      "text/plain": [
       "(384, 8)"
      ]
     },
     "execution_count": 3,
     "metadata": {},
     "output_type": "execute_result"
    }
   ],
   "source": [
    "X.shape"
   ]
  },
  {
   "cell_type": "code",
   "execution_count": 4,
   "id": "89356340-b770-4ad8-b3d0-44df581daa26",
   "metadata": {},
   "outputs": [],
   "source": [
    "estimator = DecisionTreeClassifier(random_state=0)\n",
    "oversampler_class = SMOTE\n",
    "oversampler_kwargs = {\"k_neighbors\": 1, \"random_state\": 0}\n",
    "optimizer_class = NSGA2\n",
    "optimizer_kwargs = {\"pop_size\": 200}"
   ]
  },
  {
   "cell_type": "code",
   "execution_count": 5,
   "id": "1cfff961-c91d-4cd1-9b41-8efa618974b1",
   "metadata": {},
   "outputs": [],
   "source": [
    "jfots = JFOTS(\n",
    "    estimator=estimator,\n",
    "    oversampler_class=oversampler_class,\n",
    "    oversampler_kwargs=oversampler_kwargs,\n",
    "    optimizer_class=optimizer_class,\n",
    "    optimizer_kwargs=optimizer_kwargs,\n",
    "    termination=('n_gen', 500),  # we don't have to specify the termination criterion and can use pymoo default instead\n",
    "    random_state=0,\n",
    "    verbose=False,\n",
    ")\n",
    "jfots.fit_resample(X, y)"
   ]
  },
  {
   "cell_type": "code",
   "execution_count": 6,
   "id": "146d785f-341d-4281-8f56-7a0d85b11ca3",
   "metadata": {},
   "outputs": [
    {
     "data": {
      "text/plain": [
       "{<ObservationType.SAFE: 0>: 34,\n",
       " <ObservationType.BORDERLINE: 1>: 66,\n",
       " <ObservationType.RARE: 2>: 22,\n",
       " <ObservationType.OUTLIER: 3>: 12}"
      ]
     },
     "execution_count": 6,
     "metadata": {},
     "output_type": "execute_result"
    }
   ],
   "source": [
    "jfots.type_counts  # how many minority observations from different types are in the original dataset"
   ]
  },
  {
   "cell_type": "code",
   "execution_count": 7,
   "id": "d7ebd6be-d6ae-4241-a003-6890c0d73356",
   "metadata": {},
   "outputs": [
    {
     "data": {
      "text/plain": [
       "6"
      ]
     },
     "execution_count": 7,
     "metadata": {},
     "output_type": "execute_result"
    }
   ],
   "source": [
    "len(jfots.solutions)  # how many solutions are on the pareto front"
   ]
  },
  {
   "cell_type": "code",
   "execution_count": 8,
   "id": "34c97c98-1636-4771-8b6c-be144d0d0549",
   "metadata": {},
   "outputs": [
    {
     "data": {
      "text/plain": [
       "Counter({0.0: 250, 1.0: 250})"
      ]
     },
     "execution_count": 8,
     "metadata": {},
     "output_type": "execute_result"
    }
   ],
   "source": [
    "solution = np.random.choice(jfots.solutions)\n",
    "X_, y_ = solution.data\n",
    "Counter(y_)"
   ]
  },
  {
   "cell_type": "code",
   "execution_count": 9,
   "id": "e3821dc0-6726-41ba-982b-5dd00ccc89f2",
   "metadata": {},
   "outputs": [
    {
     "data": {
      "text/plain": [
       "(500, 1)"
      ]
     },
     "execution_count": 9,
     "metadata": {},
     "output_type": "execute_result"
    }
   ],
   "source": [
    "X_.shape"
   ]
  },
  {
   "cell_type": "code",
   "execution_count": 10,
   "id": "798c3156-b2bb-48c3-91e5-091f86b75d02",
   "metadata": {},
   "outputs": [
    {
     "data": {
      "text/plain": [
       "{<ObservationType.SAFE: 0>: True,\n",
       " <ObservationType.BORDERLINE: 1>: False,\n",
       " <ObservationType.RARE: 2>: True,\n",
       " <ObservationType.OUTLIER: 3>: False}"
      ]
     },
     "execution_count": 10,
     "metadata": {},
     "output_type": "execute_result"
    }
   ],
   "source": [
    "solution.used_types  # which minority observation types were used in the chosen solution"
   ]
  },
  {
   "cell_type": "code",
   "execution_count": 11,
   "id": "1ad8c032-63b0-42e4-8bee-d2b8f17a4e30",
   "metadata": {},
   "outputs": [
    {
     "data": {
      "text/plain": [
       "array([False, False, False, False,  True, False, False, False])"
      ]
     },
     "execution_count": 11,
     "metadata": {},
     "output_type": "execute_result"
    }
   ],
   "source": [
    "solution.feature_mask  # which features were used in the chosen solution"
   ]
  },
  {
   "cell_type": "code",
   "execution_count": 12,
   "id": "891b583a-2af0-4a09-b6be-c92469d926ed",
   "metadata": {},
   "outputs": [
    {
     "data": {
      "image/png": "[encoded data removed]",
      "text/plain": [
       "<Figure size 432x432 with 1 Axes>"
      ]
     },
     "metadata": {
      "needs_background": "light"
     },
     "output_type": "display_data"
    }
   ],
   "source": [
    "jfots.plot_pareto()"
   ]
  },
  {
   "cell_type": "code",
   "execution_count": 13,
   "id": "d1bcaa63-4c24-4847-b931-428a78e6eae1",
   "metadata": {},
   "outputs": [
    {
     "data": {
      "image/png": "[encoded data removed]",
      "text/plain": [
       "<Figure size 432x288 with 1 Axes>"
      ]
     },
     "metadata": {
      "needs_background": "light"
     },
     "output_type": "display_data"
    }
   ],
   "source": [
    "jfots.plot_hv()"
   ]
  },
  {
   "cell_type": "code",
   "execution_count": 14,
   "id": "65bf71d8-2084-4baf-8220-5c7b9752c98e",
   "metadata": {},
   "outputs": [],
   "source": [
    "# we can also do the same treating variables as a binary values\n",
    "\n",
    "estimator = DecisionTreeClassifier(random_state=0)\n",
    "oversampler_class = SMOTE\n",
    "oversampler_kwargs = {\"k_neighbors\": 1, \"random_state\": 0}\n",
    "optimizer_class = NSGA2\n",
    "optimizer_kwargs = {\n",
    "    \"pop_size\": 200,\n",
    "    \"sampling\": get_sampling(\"bin_random\"),\n",
    "    \"crossover\": get_crossover(\"bin_two_point\"),\n",
    "    \"mutation\": get_mutation(\"bin_bitflip\"),\n",
    "    \"eliminate_duplicates\": True,\n",
    "}"
   ]
  },
  {
   "cell_type": "code",
   "execution_count": 15,
   "id": "069601db-65d8-416a-9ecc-c61a6bcdaa7a",
   "metadata": {},
   "outputs": [],
   "source": [
    "jfots = JFOTS(\n",
    "    estimator=estimator,\n",
    "    oversampler_class=oversampler_class,\n",
    "    oversampler_kwargs=oversampler_kwargs,\n",
    "    optimizer_class=optimizer_class,\n",
    "    optimizer_kwargs=optimizer_kwargs,\n",
    "    termination=('n_gen', 500),\n",
    "    type_var=bool,  # note that we passed a bool here as a variable type; by default it's a float\n",
    "    random_state=0,\n",
    "    verbose=False,\n",
    ")\n",
    "jfots.fit_resample(X, y)"
   ]
  },
  {
   "cell_type": "code",
   "execution_count": 16,
   "id": "a410da41-50ce-4d7e-8553-37e49466986b",
   "metadata": {},
   "outputs": [
    {
     "data": {
      "text/plain": [
       "Counter({0.0: 250, 1.0: 250})"
      ]
     },
     "execution_count": 16,
     "metadata": {},
     "output_type": "execute_result"
    }
   ],
   "source": [
    "solution = np.random.choice(jfots.solutions)\n",
    "X_, y_ = solution.data\n",
    "Counter(y_)"
   ]
  },
  {
   "cell_type": "code",
   "execution_count": 17,
   "id": "2fc25203-8ac8-445c-834e-067977e389c6",
   "metadata": {},
   "outputs": [
    {
     "data": {
      "text/plain": [
       "array([False,  True, False,  True, False,  True, False,  True])"
      ]
     },
     "execution_count": 17,
     "metadata": {},
     "output_type": "execute_result"
    }
   ],
   "source": [
    "solution.feature_mask"
   ]
  },
  {
   "cell_type": "code",
   "execution_count": 18,
   "id": "785546b8-239e-4c96-86d9-092b268b1b53",
   "metadata": {},
   "outputs": [
    {
     "data": {
      "image/png": "[encoded data removed]",
      "text/plain": [
       "<Figure size 432x432 with 1 Axes>"
      ]
     },
     "metadata": {
      "needs_background": "light"
     },
     "output_type": "display_data"
    }
   ],
   "source": [
    "jfots.plot_pareto()"
   ]
  },
  {
   "cell_type": "code",
   "execution_count": 19,
   "id": "e989d4b9-d0f4-4b4b-a76c-80252b662d24",
   "metadata": {},
   "outputs": [
    {
     "data": {
      "image/png": "[encoded data removed]",
      "text/plain": [
       "<Figure size 432x288 with 1 Axes>"
      ]
     },
     "metadata": {
      "needs_background": "light"
     },
     "output_type": "display_data"
    }
   ],
   "source": [
    "jfots.plot_hv()"
   ]
  }
 ],
 "metadata": {
  "kernelspec": {
   "display_name": "Python 3 (ipykernel)",
   "language": "python",
   "name": "python3"
  },
  "language_info": {
   "codemirror_mode": {
    "name": "ipython",
    "version": 3
   },
   "file_extension": ".py",
   "mimetype": "text/x-python",
   "name": "python",
   "nbconvert_exporter": "python",
   "pygments_lexer": "ipython3",
   "version": "3.9.7"
  }
 },
 "nbformat": 4,
 "nbformat_minor": 5
}
